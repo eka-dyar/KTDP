{
 "cells": [
  {
   "cell_type": "markdown",
   "metadata": {
    "id": "GoUNyFn5H_kc"
   },
   "source": [
    "# Scrapping judul berita"
   ]
  },
  {
   "cell_type": "code",
   "execution_count": 5,
   "metadata": {
    "id": "6bGJMNGdEvuN"
   },
   "outputs": [],
   "source": [
    "import pandas as pd"
   ]
  },
  {
   "cell_type": "code",
   "execution_count": 6,
   "metadata": {
    "id": "9weoLGivCRG-"
   },
   "outputs": [],
   "source": [
    "import urllib\n",
    "from bs4 import BeautifulSoup"
   ]
  },
  {
   "cell_type": "code",
   "execution_count": 31,
   "metadata": {
    "id": "AgXItt-k2C0k"
   },
   "outputs": [],
   "source": [
    "# langkah 1\n",
    "# membuat fungsi getUrl yang menerima 1 parameter url, dialiaskan menjadi a\n",
    "\n",
    "def getUrl(a):\n",
    "    \n",
    "# langkah 2\n",
    "# inisialisasi 4 variabel yang bertype array, yang bernama link_berita, judul_berita, tanggal_berita dan kategori\n",
    "# yang akan dipergunakan untuk menampung sementara hasil scrap\n",
    "\n",
    "  link_berita = []\n",
    "  judul_berita = []\n",
    "  tanggal_berita = []\n",
    "  kategori=[]\n",
    "\n",
    "# membuka url (yang dialiaskan menjadi a) mempergunakan urllib.request dan menyimpan HTML yang didapatkan\n",
    "# kedalam  variabel  url \n",
    "\n",
    "  url = urllib.request.urlopen(a)\n",
    "  result = url.read()\n",
    "  url.close()\n",
    "    \n",
    "# memparsing HTML dari url mempergunakan parser HTML\n",
    "  soup = BeautifulSoup(result, \"html.parser\")\n",
    "\n",
    "# mencari elemen html h3, untuk kompas, elemen html <h3> mengindikasikan judul\n",
    "  for judul in soup.find_all('h3'): \n",
    "        # mencari elemen html h3, untuk kompas, elemen html <h3> mengindikasikan judul\n",
    "    for l in judul.find_all('a'):\n",
    "        # mencari elemen html h3, untuk kompas, elemen html <h3> mengindikasikan judul\n",
    "      link_berita.append(l.get('href'))\n",
    "    judul_berita.append(judul.get_text())\n",
    "  for kateg in soup.find_all('div',class_='article__subtitle'):\n",
    "    kategori.append(kateg.get_text())\n",
    "  for tanggal in soup.find_all('div',class_='article__date'):\n",
    "    tanggal_berita.append(tanggal.get_text())\n",
    "\n",
    "  print(judul_berita)\n",
    "  print(link_berita)\n",
    "  print(tanggal_berita)\n",
    "  print(kategori) \n",
    "  return judul_berita, link_berita, tanggal_berita, kategori, soup"
   ]
  },
  {
   "cell_type": "code",
   "execution_count": 32,
   "metadata": {
    "id": "VUqKUfxwS1FG"
   },
   "outputs": [],
   "source": [
    "judul_berita = pd.DataFrame(columns=['judul','link','tanggal','kategori'])"
   ]
  },
  {
   "cell_type": "code",
   "execution_count": 45,
   "metadata": {
    "colab": {
     "base_uri": "https://localhost:8080/",
     "height": 105
    },
    "id": "SvDIyTU0Gh8Q",
    "outputId": "212c622f-7013-473a-fd0a-eceddf625b23"
   },
   "outputs": [
    {
     "name": "stdout",
     "output_type": "stream",
     "text": [
      "['Hari Ketiga Libur Panjang, Jumlah Penumpang di Kampung Rambutan Menurun', '5 Wisatawan Diminta Pulang Usai Jalani Rapid Test di Stasiun Bogor', 'Indonesia’s Maluku Islands Ready to Become a Plastic-Free Tourism Destination', 'Politisi PAN Minta Pemerintah Tak Sepihak Putuskan UMP 2021', 'Libur Panjang, 83.257 Volume Kendaraan Melintas di Tol Pemalang-Batang', 'Over Half Million Vehicles Leave Jakarta for Long Weekend ', 'Masuk Riau Diperketat, Penumpang Wajib Cek Suhu Tubuh di Pos Jaga', 'Pandangan Alisson soal Tekel Horor Jordan Pickford', 'Update 30 Oktober: Covid-19 di Kota Tangerang Kini 2.159, Bertambah 19 Kasus', 'Qatar Akan Tuntut Pegawai yang Periksa Wanita Telanjang di Bandara', 'Max Kilman Hobi Berduel dengan \"Serigala\" Kekar ', 'BNPB Minta Depok Segera Isolasi OTG Covid-19 di Lokasi Khusus', 'Gudang Rosok Dibongkar Pencuri, Beberapa Kuintal Barang Bekas Hilang ', 'Elf Berpenumpang 14 Orang Masuk Jurang, Bocah 9 Tahun Tewas, Belasan Lain Luka', 'Lirik dan Chord Lagu I Want You Around - Snoh Aalegra', 'Ibu Pelaku Teror Penyerangan Pisau di Perancis Menangis dan Terkejut atas Perbuatan Anaknya', 'Soal Pembubaran Deklarasi KAMI di Jambi, Ini Penjelasan Gugus Tugas', 'Andrea Pirlo Ciptakan Versi Terburuk Juventus dalam 1 Dekade Terakhir', 'KPU Tetapkan Jadwal Debat Kandidat Pilkada Tangsel: 22 November dan 3 Desember 2020', 'Libur Panjang, 509.140 kendaraan Tinggalkan Jakarta', 'Lirik dan Chord Lagu Partition dari Beyonce', 'Kelly Tandiono Soroti Fasilitas Bersepeda di Jalanan Dalam Kota', 'Penjualan Sepeda Turun 30 Persen pada Agustus-Oktober 2020', 'Bulan November, KSPI Lakukan Rentetan Aksi Unjuk Rasa', 'Demo Anti-Perancis Menjalar ke Bangladesh, Pakistan, dan Afghanistan', 'Kebiasaan Khabib Kala Bertarung Dirasakan Langsung oleh Conor McGregor', 'Makan Buah Kiwi Efektif Atasi Sembelit, Sudah Tahu?', '[UPDATE] Grafik Covid-19 30 Oktober: Total 7.116 Kasus di Depok', 'Bersepeda di Masa Pandemi, Kelly Tandiono Batasi Rombongan Tak Lebih dari 10 Orang', 'Karyawati SPBU Tewas dengan Tubuh Terluka di Jalan, Keluarga Duga Dibunuh', 'Bicara tentang Menghargai Pasangan, Bagas HP Lepas Singel Stay Here Love', 'Mengapa Emas Jadi Cara Berinvestasi Terbaik Saat Pandemi? ', 'Klaster Pilkada Purbalingga Meluas, dari Paslon, Tim Sukses, hingga Petugas KPU Positif Covid-19', 'Pria yang Merusak Motornya dengan Batu Besar Akhirnya Ditilang', 'TREASURE Bakal Tampil di MAMA 2020?', 'Lirik dan Chord Lagu All Bad dari Justin Bieber', 'Polemik Lokasi Khusus Isolasi OTG Covid-19 di Depok, Kini BNPB Sebut Wisma Makara UI Boleh Dipakai', 'BPBD Catat 31 Desa dan 10 Kecamatan Terdampak Banjir Kebumen', 'Ingin Naik Gunung Saat Libut Panjang, Simak Info 6 Gunung Ini', 'Jelang Laga Alaves Vs Barcelona, Ter Stegen dan Umtiti Sudah Kembali Berlatih']\n",
      "['https://nasional.kompas.com/read/2020/10/30/22590921/hari-ketiga-libur-panjang-jumlah-penumpang-di-kampung-rambutan-menurun', 'https://megapolitan.kompas.com/read/2020/10/30/22561781/5-wisatawan-diminta-pulang-usai-jalani-rapid-test-di-stasiun-bogor', 'https://go.kompas.com/read/2020/10/30/225400674/indonesias-maluku-islands-ready-to-become-a-plastic-free-tourism-destination', 'https://nasional.kompas.com/read/2020/10/30/22511601/politisi-pan-minta-pemerintah-tak-sepihak-putuskan-ump-2021', 'https://regional.kompas.com/read/2020/10/30/22500061/libur-panjang-83.257-volume-kendaraan-melintas-di-tol-pemalang-batang', 'https://go.kompas.com/read/2020/10/30/224914474/over-half-million-vehicles-leave-jakarta-for-long-weekend', 'https://regional.kompas.com/read/2020/10/30/22411791/masuk-riau-diperketat-penumpang-wajib-cek-suhu-tubuh-di-pos-jaga', 'https://bola.kompas.com/read/2020/10/30/22400048/pandangan-alisson-soal-tekel-horor-jordan-pickford', 'https://megapolitan.kompas.com/read/2020/10/30/22361371/update-30-oktober-covid-19-di-kota-tangerang-kini-2159-bertambah-19-kasus', 'https://www.kompas.com/global/read/2020/10/30/223516770/qatar-akan-tuntut-pegawai-yang-periksa-wanita-telanjang-di-bandara', 'https://www.kompas.com/sports/read/2020/10/30/22335838/max-kilman-hobi-berduel-dengan-serigala-kekar', 'https://megapolitan.kompas.com/read/2020/10/30/22295851/bnpb-minta-depok-segera-isolasi-otg-covid-19-di-lokasi-khusus', 'https://regional.kompas.com/read/2020/10/30/22295561/gudang-rosok-dibongkar-pencuri-beberapa-kuintal-barang-bekas-hilang', 'https://regional.kompas.com/read/2020/10/30/22262911/elf-berpenumpang-14-orang-masuk-jurang-bocah-9-tahun-tewas-belasan-lain-luka', 'https://www.kompas.com/hype/read/2020/10/30/222500566/lirik-dan-chord-lagu-i-want-you-around-snoh-aalegra', 'https://www.kompas.com/global/read/2020/10/30/221951170/ibu-pelaku-teror-penyerangan-pisau-di-perancis-menangis-dan-terkejut-atas', 'https://regional.kompas.com/read/2020/10/30/22193221/soal-pembubaran-deklarasi-kami-di-jambi-ini-penjelasan-gugus-tugas', 'https://bola.kompas.com/read/2020/10/30/22190028/andrea-pirlo-ciptakan-versi-terburuk-juventus-dalam-1-dekade-terakhir', 'https://megapolitan.kompas.com/read/2020/10/30/22182761/kpu-tetapkan-jadwal-debat-kandidat-pilkada-tangsel-22-november-dan-3', 'https://megapolitan.kompas.com/read/2020/10/30/22114671/libur-panjang-509140-kendaraan-tinggalkan-jakarta', 'https://www.kompas.com/hype/read/2020/10/30/221000866/lirik-dan-chord-lagu-partition-dari-beyonce', 'https://www.kompas.com/hype/read/2020/10/30/220700966/kelly-tandiono-soroti-fasilitas-bersepeda-di-jalanan-dalam-kota', 'https://money.kompas.com/read/2020/10/30/220500626/penjualan-sepeda-turun-30-persen-pada-agustus-oktober-2020', 'https://nasional.kompas.com/read/2020/10/30/22015811/bulan-november-kspi-lakukan-rentetan-aksi-unjuk-rasa', 'https://www.kompas.com/global/read/2020/10/30/220106970/demo-anti-perancis-menjalar-ke-bangladesh-pakistan-dan-afghanistan', 'https://www.kompas.com/sports/read/2020/10/30/22000038/kebiasaan-khabib-kala-bertarung-dirasakan-langsung-oleh-conor-mcgregor', 'https://lifestyle.kompas.com/read/2020/10/30/220000820/makan-buah-kiwi-efektif-atasi-sembelit-sudah-tahu-', 'https://megapolitan.kompas.com/read/2020/10/30/21593581/update-grafik-covid-19-30-oktober-total-7116-kasus-di-depok', 'https://www.kompas.com/hype/read/2020/10/30/215700466/bersepeda-di-masa-pandemi-kelly-tandiono-batasi-rombongan-tak-lebih-dari-10', 'https://regional.kompas.com/read/2020/10/30/21554901/karyawati-spbu-tewas-dengan-tubuh-terluka-di-jalan-keluarga-duga-dibunuh', 'https://www.kompas.com/hype/read/2020/10/30/215500266/bicara-tentang-menghargai-pasangan-bagas-hp-lepas-singel-stay-here-love', 'https://money.kompas.com/read/2020/10/30/215500926/mengapa-emas-jadi-cara-berinvestasi-terbaik-saat-pandemi', 'https://regional.kompas.com/read/2020/10/30/21530511/klaster-pilkada-purbalingga-meluas-dari-paslon-tim-sukses-hingga-petugas-kpu', 'https://regional.kompas.com/read/2020/10/30/21515771/pria-yang-merusak-motornya-dengan-batu-besar-akhirnya-ditilang', 'https://www.kompas.com/hype/read/2020/10/30/215032066/treasure-bakal-tampil-di-mama-2020', 'https://www.kompas.com/hype/read/2020/10/30/215000266/lirik-dan-chord-lagu-all-bad-dari-justin-bieber', 'https://megapolitan.kompas.com/read/2020/10/30/21425571/polemik-lokasi-khusus-isolasi-otg-covid-19-di-depok-kini-bnpb-sebut-wisma', 'https://regional.kompas.com/read/2020/10/30/21421071/bpbd-catat-31-desa-dan-10-kecamatan-terdampak-banjir-kebumen', 'https://travel.kompas.com/read/2020/10/30/214047427/ingin-naik-gunung-saat-libut-panjang-simak-info-6-gunung-ini', 'https://bola.kompas.com/read/2020/10/30/21400098/jelang-laga-alaves-vs-barcelona-ter-stegen-dan-umtiti-sudah-kembali-berlatih']\n",
      "['30/10/2020, 22:59 WIB', '30/10/2020, 22:56 WIB', '30/10/2020, 22:54 WIB', '30/10/2020, 22:51 WIB', '30/10/2020, 22:50 WIB', '30/10/2020, 22:49 WIB', '30/10/2020, 22:41 WIB', '30/10/2020, 22:40 WIB', '30/10/2020, 22:36 WIB', '30/10/2020, 22:35 WIB', '30/10/2020, 22:33 WIB', '30/10/2020, 22:29 WIB', '30/10/2020, 22:29 WIB', '30/10/2020, 22:26 WIB', '30/10/2020, 22:25 WIB', '30/10/2020, 22:19 WIB', '30/10/2020, 22:19 WIB', '30/10/2020, 22:19 WIB', '30/10/2020, 22:18 WIB', '30/10/2020, 22:11 WIB', '30/10/2020, 22:10 WIB', '30/10/2020, 22:07 WIB', '30/10/2020, 22:05 WIB', '30/10/2020, 22:01 WIB', '30/10/2020, 22:01 WIB', '30/10/2020, 22:00 WIB', '30/10/2020, 22:00 WIB', '30/10/2020, 21:59 WIB', '30/10/2020, 21:57 WIB', '30/10/2020, 21:55 WIB', '30/10/2020, 21:55 WIB', '30/10/2020, 21:55 WIB', '30/10/2020, 21:53 WIB', '30/10/2020, 21:51 WIB', '30/10/2020, 21:50 WIB', '30/10/2020, 21:50 WIB', '30/10/2020, 21:42 WIB', '30/10/2020, 21:42 WIB', '30/10/2020, 21:40 WIB', '30/10/2020, 21:40 WIB']\n",
      "['NEWS', 'NEWS', 'GO', 'NEWS', 'NEWS', 'GO', 'NEWS', 'BOLA', 'NEWS', 'GLOBAL', 'BOLA', 'NEWS', 'NEWS', 'NEWS', 'HYPE', 'GLOBAL', 'NEWS', 'BOLA', 'NEWS', 'NEWS', 'HYPE', 'HYPE', 'MONEY', 'NEWS', 'GLOBAL', 'BOLA', 'LIFESTYLE', 'NEWS', 'HYPE', 'NEWS', 'HYPE', 'MONEY', 'NEWS', 'NEWS', 'HYPE', 'HYPE', 'NEWS', 'NEWS', 'TRAVEL', 'BOLA']\n"
     ]
    }
   ],
   "source": [
    "kompas='https://indeks.kompas.com/?site=all&date=2020-10-30'\n",
    "judul, link, tanggal, kategori, semua = getUrl(kompas)\n",
    "for a in range(len(judul)):\n",
    "  judul_berita = judul_berita.append(pd.DataFrame([[judul[a],\n",
    "    link[a],tanggal[a],kategori[a]]],\n",
    "    columns=['judul','link','tanggal','kategori']),ignore_index=True)"
   ]
  },
  {
   "cell_type": "code",
   "execution_count": 43,
   "metadata": {
    "id": "I_dEsoDGSXP0"
   },
   "outputs": [],
   "source": [
    "judul_berita.to_csv('scrap_judul.csv',index=False)"
   ]
  },
  {
   "cell_type": "code",
   "execution_count": 44,
   "metadata": {
    "colab": {
     "base_uri": "https://localhost:8080/",
     "height": 514
    },
    "id": "ZsV4fr4MSjA2",
    "outputId": "395dc1ef-a2d2-4973-a08e-87ca3bfd1a15"
   },
   "outputs": [
    {
     "data": {
      "text/html": [
       "<div>\n",
       "<style scoped>\n",
       "    .dataframe tbody tr th:only-of-type {\n",
       "        vertical-align: middle;\n",
       "    }\n",
       "\n",
       "    .dataframe tbody tr th {\n",
       "        vertical-align: top;\n",
       "    }\n",
       "\n",
       "    .dataframe thead th {\n",
       "        text-align: right;\n",
       "    }\n",
       "</style>\n",
       "<table border=\"1\" class=\"dataframe\">\n",
       "  <thead>\n",
       "    <tr style=\"text-align: right;\">\n",
       "      <th></th>\n",
       "      <th>judul</th>\n",
       "      <th>link</th>\n",
       "      <th>tanggal</th>\n",
       "      <th>kategori</th>\n",
       "    </tr>\n",
       "  </thead>\n",
       "  <tbody>\n",
       "    <tr>\n",
       "      <th>0</th>\n",
       "      <td>Palestina Desak PBB Bahas Perdamaian di Timur ...</td>\n",
       "      <td>https://www.kompas.com/global/read/2020/10/29/...</td>\n",
       "      <td>29/10/2020, 23:36 WIB</td>\n",
       "      <td>GLOBAL</td>\n",
       "    </tr>\n",
       "    <tr>\n",
       "      <th>1</th>\n",
       "      <td>Program Garuda Select Kembali Bergulir dan Sud...</td>\n",
       "      <td>https://bola.kompas.com/read/2020/10/29/233034...</td>\n",
       "      <td>29/10/2020, 23:30 WIB</td>\n",
       "      <td>BOLA</td>\n",
       "    </tr>\n",
       "    <tr>\n",
       "      <th>2</th>\n",
       "      <td>Indonesia Highlights: US Secretary of State Po...</td>\n",
       "      <td>https://go.kompas.com/read/2020/10/29/23275907...</td>\n",
       "      <td>29/10/2020, 23:27 WIB</td>\n",
       "      <td>GO</td>\n",
       "    </tr>\n",
       "    <tr>\n",
       "      <th>3</th>\n",
       "      <td>Foreign Ships Continue Illegal Fishing in Indo...</td>\n",
       "      <td>https://go.kompas.com/read/2020/10/29/23023587...</td>\n",
       "      <td>29/10/2020, 23:02 WIB</td>\n",
       "      <td>GO</td>\n",
       "    </tr>\n",
       "    <tr>\n",
       "      <th>4</th>\n",
       "      <td>Indonesia’s Third Wealthiest Person Tan Siok T...</td>\n",
       "      <td>https://go.kompas.com/read/2020/10/29/22545807...</td>\n",
       "      <td>29/10/2020, 22:54 WIB</td>\n",
       "      <td>GO</td>\n",
       "    </tr>\n",
       "    <tr>\n",
       "      <th>...</th>\n",
       "      <td>...</td>\n",
       "      <td>...</td>\n",
       "      <td>...</td>\n",
       "      <td>...</td>\n",
       "    </tr>\n",
       "    <tr>\n",
       "      <th>75</th>\n",
       "      <td>Lirik dan Chord Lagu All Bad dari Justin Bieber</td>\n",
       "      <td>https://www.kompas.com/hype/read/2020/10/30/21...</td>\n",
       "      <td>30/10/2020, 21:50 WIB</td>\n",
       "      <td>HYPE</td>\n",
       "    </tr>\n",
       "    <tr>\n",
       "      <th>76</th>\n",
       "      <td>Polemik Lokasi Khusus Isolasi OTG Covid-19 di ...</td>\n",
       "      <td>https://megapolitan.kompas.com/read/2020/10/30...</td>\n",
       "      <td>30/10/2020, 21:42 WIB</td>\n",
       "      <td>NEWS</td>\n",
       "    </tr>\n",
       "    <tr>\n",
       "      <th>77</th>\n",
       "      <td>BPBD Catat 31 Desa dan 10 Kecamatan Terdampak ...</td>\n",
       "      <td>https://regional.kompas.com/read/2020/10/30/21...</td>\n",
       "      <td>30/10/2020, 21:42 WIB</td>\n",
       "      <td>NEWS</td>\n",
       "    </tr>\n",
       "    <tr>\n",
       "      <th>78</th>\n",
       "      <td>Ingin Naik Gunung Saat Libut Panjang, Simak In...</td>\n",
       "      <td>https://travel.kompas.com/read/2020/10/30/2140...</td>\n",
       "      <td>30/10/2020, 21:40 WIB</td>\n",
       "      <td>TRAVEL</td>\n",
       "    </tr>\n",
       "    <tr>\n",
       "      <th>79</th>\n",
       "      <td>Jelang Laga Alaves Vs Barcelona, Ter Stegen da...</td>\n",
       "      <td>https://bola.kompas.com/read/2020/10/30/214000...</td>\n",
       "      <td>30/10/2020, 21:40 WIB</td>\n",
       "      <td>BOLA</td>\n",
       "    </tr>\n",
       "  </tbody>\n",
       "</table>\n",
       "<p>80 rows × 4 columns</p>\n",
       "</div>"
      ],
      "text/plain": [
       "                                                judul  \\\n",
       "0   Palestina Desak PBB Bahas Perdamaian di Timur ...   \n",
       "1   Program Garuda Select Kembali Bergulir dan Sud...   \n",
       "2   Indonesia Highlights: US Secretary of State Po...   \n",
       "3   Foreign Ships Continue Illegal Fishing in Indo...   \n",
       "4   Indonesia’s Third Wealthiest Person Tan Siok T...   \n",
       "..                                                ...   \n",
       "75    Lirik dan Chord Lagu All Bad dari Justin Bieber   \n",
       "76  Polemik Lokasi Khusus Isolasi OTG Covid-19 di ...   \n",
       "77  BPBD Catat 31 Desa dan 10 Kecamatan Terdampak ...   \n",
       "78  Ingin Naik Gunung Saat Libut Panjang, Simak In...   \n",
       "79  Jelang Laga Alaves Vs Barcelona, Ter Stegen da...   \n",
       "\n",
       "                                                 link                tanggal  \\\n",
       "0   https://www.kompas.com/global/read/2020/10/29/...  29/10/2020, 23:36 WIB   \n",
       "1   https://bola.kompas.com/read/2020/10/29/233034...  29/10/2020, 23:30 WIB   \n",
       "2   https://go.kompas.com/read/2020/10/29/23275907...  29/10/2020, 23:27 WIB   \n",
       "3   https://go.kompas.com/read/2020/10/29/23023587...  29/10/2020, 23:02 WIB   \n",
       "4   https://go.kompas.com/read/2020/10/29/22545807...  29/10/2020, 22:54 WIB   \n",
       "..                                                ...                    ...   \n",
       "75  https://www.kompas.com/hype/read/2020/10/30/21...  30/10/2020, 21:50 WIB   \n",
       "76  https://megapolitan.kompas.com/read/2020/10/30...  30/10/2020, 21:42 WIB   \n",
       "77  https://regional.kompas.com/read/2020/10/30/21...  30/10/2020, 21:42 WIB   \n",
       "78  https://travel.kompas.com/read/2020/10/30/2140...  30/10/2020, 21:40 WIB   \n",
       "79  https://bola.kompas.com/read/2020/10/30/214000...  30/10/2020, 21:40 WIB   \n",
       "\n",
       "   kategori  \n",
       "0    GLOBAL  \n",
       "1      BOLA  \n",
       "2        GO  \n",
       "3        GO  \n",
       "4        GO  \n",
       "..      ...  \n",
       "75     HYPE  \n",
       "76     NEWS  \n",
       "77     NEWS  \n",
       "78   TRAVEL  \n",
       "79     BOLA  \n",
       "\n",
       "[80 rows x 4 columns]"
      ]
     },
     "execution_count": 44,
     "metadata": {},
     "output_type": "execute_result"
    }
   ],
   "source": [
    "judul_berita"
   ]
  },
  {
   "cell_type": "markdown",
   "metadata": {
    "id": "55Cgxa6BHHln"
   },
   "source": [
    "# Menggunakan Library Newspaper3k"
   ]
  },
  {
   "cell_type": "code",
   "execution_count": 47,
   "metadata": {
    "id": "jQCMAHigaRB2"
   },
   "outputs": [],
   "source": [
    "from newspaper import Article\n",
    "import pandas as pd"
   ]
  },
  {
   "cell_type": "code",
   "execution_count": 50,
   "metadata": {
    "id": "Zx81_I-EEUct"
   },
   "outputs": [],
   "source": [
    " data_berita = pd.DataFrame(columns=['judul', 'penulis','tanggal','isi'])"
   ]
  },
  {
   "cell_type": "code",
   "execution_count": 54,
   "metadata": {
    "colab": {
     "base_uri": "https://localhost:8080/",
     "height": 0
    },
    "id": "68mhMTDUaWXK",
    "outputId": "b5b7c425-dbb6-4f42-ed4e-86e564a464f7"
   },
   "outputs": [
    {
     "name": "stdout",
     "output_type": "stream",
     "text": [
      "Judul: PDIP Resmi Pecat Yusuf Widyatmoko dari Keanggotaan Partai\n",
      "Penulis: ['Ardian Fanani', 'Https', 'Www.Facebook.Com Detikcom', 'Ardian Fanani - Detiknews']\n",
      "Tanggal publikasi: 2020-10-09 22:34:43\n",
      "Teks berita: PDIP resmi memecat Yusuf Widyatmoko dari keanggotaan partai. Melalui Surat Keputusan DPP PDIP Nomor 63/KPTS/DPP/X/2020, yang ditandatangani Ketua Umum PDIP Megawati Soekarnoputri dan Sekjen PDIP Hasto Kristiyanto, per 1 Oktober 2020 Yusuf tidak lagi berstatus anggota.\n",
      "\n",
      "Surat pemecatan ini dibacakan langsung oleh Sekretaris DPD PDIP Jawa Timur Untari Bisowarno, di Kantor DPC PDIP Banyuwangi, Jalan Jaksa Agung Suprapto.\n",
      "\n",
      "\"PDI Perjuangan memberikan sanksi organisasi berupa pemecatan kepada Yusuf Widyatmoko dari keanggotaan partai,\" kata Untari membacakan surat keputusan tertanggal 1 Oktober 2020, Jumat (9/10/2020).\n",
      "\n",
      "PDIP menilai, tindakan Yusuf tidak mengindahkan instruksi partai terkait rekomendasi calon Bupati dan Wakil Bupati Banyuwangi pada Pilkada Serentak tahun 2020. Di mana Yusuf telah mencalonkan diri dari partai PKB dan Demokrat.\n"
     ]
    }
   ],
   "source": [
    "# url dari situs yang akan discrap dimasukkan dalam variabel alamat\n",
    "alamat='https://news.detik.com/berita-jawa-timur/d-5207658/pdip-resmi-pecat-yusuf-widyatmoko-dari-keanggotaan-partai'\n",
    "\n",
    "# inisialisasi object Article dari satu alamat yang kemudian akan disimpan dalam variabel berita\n",
    "berita=Article(alamat)\n",
    "\n",
    "# perintah untuk memparsing artikel\n",
    "berita.download()\n",
    "berita.parse()\n",
    "\n",
    "# perintah untuk mengekstrak informasi  mengekstrak informasi. \n",
    "# informasi yang akan diambil adalah judul, penulis, tanggal publikasi, teks berita\n",
    "print('Judul:', berita.title)\n",
    "print('Penulis:', berita.authors)\n",
    "print('Tanggal publikasi:', berita.publish_date)\n",
    "print('Teks berita:', berita.text)\n",
    "isi_berita=[[berita.title, berita.authors, berita.publish_date, berita.text]]\n",
    "data_berita = data_berita.append(pd.DataFrame(isi_berita, \n",
    "            columns=['judul', 'penulis','tanggal','isi']),ignore_index=True)"
   ]
  },
  {
   "cell_type": "code",
   "execution_count": 127,
   "metadata": {
    "id": "QeNvN5PBGQY8"
   },
   "outputs": [],
   "source": [
    "data_berita.to_csv('scrap_berita.csv',index=False)"
   ]
  },
  {
   "cell_type": "code",
   "execution_count": null,
   "metadata": {
    "id": "t_jGKg9DGVia"
   },
   "outputs": [],
   "source": []
  }
 ],
 "metadata": {
  "colab": {
   "collapsed_sections": [
    "GoUNyFn5H_kc",
    "55Cgxa6BHHln"
   ],
   "name": "crawl_kompas.ipynb",
   "provenance": []
  },
  "kernelspec": {
   "display_name": "Python 3",
   "language": "python",
   "name": "python3"
  },
  "language_info": {
   "codemirror_mode": {
    "name": "ipython",
    "version": 3
   },
   "file_extension": ".py",
   "mimetype": "text/x-python",
   "name": "python",
   "nbconvert_exporter": "python",
   "pygments_lexer": "ipython3",
   "version": "3.8.3"
  }
 },
 "nbformat": 4,
 "nbformat_minor": 1
}
